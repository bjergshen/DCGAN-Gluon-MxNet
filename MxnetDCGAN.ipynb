{
 "cells": [
  {
   "cell_type": "code",
   "execution_count": 4,
   "metadata": {
    "collapsed": true
   },
   "outputs": [],
   "source": [
    "from __future__ import print_function\n",
    "import os\n",
    "import mxnet as mx\n",
    "import random\n",
    "from mxnet import nd, autograd\n",
    "from mxnet import gluon\n",
    "import numpy as np\n",
    "#from IPython.display import display, Image\n",
    "import matplotlib.pyplot as plt"
   ]
  },
  {
   "cell_type": "code",
   "execution_count": 5,
   "metadata": {
    "collapsed": true
   },
   "outputs": [],
   "source": [
    "class Options:\n",
    "    def __init__(self):\n",
    "        self.dataset = 'cifar' # cifar10 | lsun | imagenet | folder | lfw\n",
    "        #self.dataroot = '/EBS100G/GAN_resutls/lfw/lfw-deepfunneled' # path to dataset\n",
    "        self.dataroot = './data' # path to dataset\n",
    "        self.workers = 2 # number of data loading workers\n",
    "        self.batchSize = 64 # input batch size\n",
    "        self.imageSize = 64 # the height / width of the input image to network'\n",
    "        self.nz =100 # size of the latent z vector\n",
    "        self.ngf = 64\n",
    "        self.ndf = 64 \n",
    "        self.nc = 3 #numb color\n",
    "        self.niter =125 # number of epochs to train for\n",
    "        self.lr = 0.01 # learning rate, default=0.0002\n",
    "        self.beta1 = 0.5 # beta1 for adam. default=0.5\n",
    "        self.ctx = mx.gpu() #  enables gpu\n",
    "        self.ngpu = 1 # number of GPUs to use\n",
    "        self.G_net = '' # path to netG (to continue training)\n",
    "        self.D_net = '' #help=\"path to netD (to continue training)\")\n",
    "        self.outf = './data/mxnet_cifar' # help='folder to output images and model checkpoints')\n",
    "        self.manualSeed = random.randint(1, 10000) # manual seed \n",
    "\n",
    "opt = Options()\n",
    "try:\n",
    "    os.makedirs(opt.outf)\n",
    "except OSError:\n",
    "    pass\n",
    "mx.random.seed(opt.manualSeed)\n",
    "\n"
   ]
  },
  {
   "cell_type": "markdown",
   "metadata": {},
   "source": [
    "# Load the target data"
   ]
  },
  {
   "cell_type": "code",
   "execution_count": 6,
   "metadata": {
    "collapsed": true
   },
   "outputs": [],
   "source": [
    "def transformer(data, label):\n",
    "    data = mx.image.imresize(data, opt.imageSize, opt.imageSize)\n",
    "    data = mx.nd.transpose(data, (2,0,1))\n",
    "    data = data.astype(np.float32)/128-1\n",
    "    return data, label"
   ]
  },
  {
   "cell_type": "code",
   "execution_count": 8,
   "metadata": {},
   "outputs": [
    {
     "ename": "OSError",
     "evalue": "[Errno 28] No space left on device",
     "output_type": "error",
     "traceback": [
      "\u001b[0;31m---------------------------------------------------------------------------\u001b[0m",
      "\u001b[0;31mOSError\u001b[0m                                   Traceback (most recent call last)",
      "\u001b[0;32m<ipython-input-8-2d75b8e77b40>\u001b[0m in \u001b[0;36m<module>\u001b[0;34m()\u001b[0m\n\u001b[1;32m      1\u001b[0m train_data = gluon.data.DataLoader(\n\u001b[0;32m----> 2\u001b[0;31m     \u001b[0mgluon\u001b[0m\u001b[0;34m.\u001b[0m\u001b[0mdata\u001b[0m\u001b[0;34m.\u001b[0m\u001b[0mvision\u001b[0m\u001b[0;34m.\u001b[0m\u001b[0mCIFAR10\u001b[0m\u001b[0;34m(\u001b[0m\u001b[0mopt\u001b[0m\u001b[0;34m.\u001b[0m\u001b[0mdataroot\u001b[0m\u001b[0;34m,\u001b[0m \u001b[0mtrain\u001b[0m\u001b[0;34m=\u001b[0m\u001b[0;32mTrue\u001b[0m\u001b[0;34m,\u001b[0m \u001b[0mtransform\u001b[0m\u001b[0;34m=\u001b[0m\u001b[0mtransformer\u001b[0m\u001b[0;34m)\u001b[0m\u001b[0;34m,\u001b[0m\u001b[0;34m\u001b[0m\u001b[0m\n\u001b[0m\u001b[1;32m      3\u001b[0m     batch_size= opt.batchSize, shuffle=True, last_batch='discard')\n\u001b[1;32m      4\u001b[0m \u001b[0;34m\u001b[0m\u001b[0m\n\u001b[1;32m      5\u001b[0m test_data = gluon.data.DataLoader(\n",
      "\u001b[0;32m/home/ubuntu/src/mxnet/python/mxnet/gluon/data/vision.py\u001b[0m in \u001b[0;36m__init__\u001b[0;34m(self, root, train, transform)\u001b[0m\n\u001b[1;32m    127\u001b[0m                              \u001b[0;34m'data_batch_5.bin'\u001b[0m\u001b[0;34m:\u001b[0m \u001b[0;34m'26e2849e66a845b7f1e4614ae70f4889ae604628'\u001b[0m\u001b[0;34m,\u001b[0m\u001b[0;34m\u001b[0m\u001b[0m\n\u001b[1;32m    128\u001b[0m                              'test_batch.bin': '67eb016db431130d61cd03c7ad570b013799c88c'}\n\u001b[0;32m--> 129\u001b[0;31m         \u001b[0msuper\u001b[0m\u001b[0;34m(\u001b[0m\u001b[0mCIFAR10\u001b[0m\u001b[0;34m,\u001b[0m \u001b[0mself\u001b[0m\u001b[0;34m)\u001b[0m\u001b[0;34m.\u001b[0m\u001b[0m__init__\u001b[0m\u001b[0;34m(\u001b[0m\u001b[0mroot\u001b[0m\u001b[0;34m,\u001b[0m \u001b[0mtrain\u001b[0m\u001b[0;34m,\u001b[0m \u001b[0mtransform\u001b[0m\u001b[0;34m)\u001b[0m\u001b[0;34m\u001b[0m\u001b[0m\n\u001b[0m\u001b[1;32m    130\u001b[0m \u001b[0;34m\u001b[0m\u001b[0m\n\u001b[1;32m    131\u001b[0m     \u001b[0;32mdef\u001b[0m \u001b[0m_read_batch\u001b[0m\u001b[0;34m(\u001b[0m\u001b[0mself\u001b[0m\u001b[0;34m,\u001b[0m \u001b[0mfilename\u001b[0m\u001b[0;34m)\u001b[0m\u001b[0;34m:\u001b[0m\u001b[0;34m\u001b[0m\u001b[0m\n",
      "\u001b[0;32m/home/ubuntu/src/mxnet/python/mxnet/gluon/data/vision.py\u001b[0m in \u001b[0;36m__init__\u001b[0;34m(self, root, train, transform)\u001b[0m\n\u001b[1;32m     41\u001b[0m         \u001b[0mself\u001b[0m\u001b[0;34m.\u001b[0m\u001b[0m_label\u001b[0m \u001b[0;34m=\u001b[0m \u001b[0;32mNone\u001b[0m\u001b[0;34m\u001b[0m\u001b[0m\n\u001b[1;32m     42\u001b[0m \u001b[0;34m\u001b[0m\u001b[0m\n\u001b[0;32m---> 43\u001b[0;31m         \u001b[0mself\u001b[0m\u001b[0;34m.\u001b[0m\u001b[0m_get_data\u001b[0m\u001b[0;34m(\u001b[0m\u001b[0;34m)\u001b[0m\u001b[0;34m\u001b[0m\u001b[0m\n\u001b[0m\u001b[1;32m     44\u001b[0m \u001b[0;34m\u001b[0m\u001b[0m\n\u001b[1;32m     45\u001b[0m     \u001b[0;32mdef\u001b[0m \u001b[0m__getitem__\u001b[0m\u001b[0;34m(\u001b[0m\u001b[0mself\u001b[0m\u001b[0;34m,\u001b[0m \u001b[0midx\u001b[0m\u001b[0;34m)\u001b[0m\u001b[0;34m:\u001b[0m\u001b[0;34m\u001b[0m\u001b[0m\n",
      "\u001b[0;32m/home/ubuntu/src/mxnet/python/mxnet/gluon/data/vision.py\u001b[0m in \u001b[0;36m_get_data\u001b[0;34m(self)\u001b[0m\n\u001b[1;32m    149\u001b[0m \u001b[0;34m\u001b[0m\u001b[0m\n\u001b[1;32m    150\u001b[0m             \u001b[0;32mwith\u001b[0m \u001b[0mtarfile\u001b[0m\u001b[0;34m.\u001b[0m\u001b[0mopen\u001b[0m\u001b[0;34m(\u001b[0m\u001b[0mfilename\u001b[0m\u001b[0;34m)\u001b[0m \u001b[0;32mas\u001b[0m \u001b[0mtar\u001b[0m\u001b[0;34m:\u001b[0m\u001b[0;34m\u001b[0m\u001b[0m\n\u001b[0;32m--> 151\u001b[0;31m                 \u001b[0mtar\u001b[0m\u001b[0;34m.\u001b[0m\u001b[0mextractall\u001b[0m\u001b[0;34m(\u001b[0m\u001b[0mself\u001b[0m\u001b[0;34m.\u001b[0m\u001b[0m_root\u001b[0m\u001b[0;34m)\u001b[0m\u001b[0;34m\u001b[0m\u001b[0m\n\u001b[0m\u001b[1;32m    152\u001b[0m \u001b[0;34m\u001b[0m\u001b[0m\n\u001b[1;32m    153\u001b[0m         \u001b[0;32mif\u001b[0m \u001b[0mself\u001b[0m\u001b[0;34m.\u001b[0m\u001b[0m_train\u001b[0m\u001b[0;34m:\u001b[0m\u001b[0;34m\u001b[0m\u001b[0m\n",
      "\u001b[0;32m/usr/lib/python3.4/tarfile.py\u001b[0m in \u001b[0;36mextractall\u001b[0;34m(self, path, members)\u001b[0m\n\u001b[1;32m   1978\u001b[0m                 \u001b[0mtarinfo\u001b[0m\u001b[0;34m.\u001b[0m\u001b[0mmode\u001b[0m \u001b[0;34m=\u001b[0m \u001b[0;36m0o700\u001b[0m\u001b[0;34m\u001b[0m\u001b[0m\n\u001b[1;32m   1979\u001b[0m             \u001b[0;31m# Do not set_attrs directories, as we will do that further down\u001b[0m\u001b[0;34m\u001b[0m\u001b[0;34m\u001b[0m\u001b[0m\n\u001b[0;32m-> 1980\u001b[0;31m             \u001b[0mself\u001b[0m\u001b[0;34m.\u001b[0m\u001b[0mextract\u001b[0m\u001b[0;34m(\u001b[0m\u001b[0mtarinfo\u001b[0m\u001b[0;34m,\u001b[0m \u001b[0mpath\u001b[0m\u001b[0;34m,\u001b[0m \u001b[0mset_attrs\u001b[0m\u001b[0;34m=\u001b[0m\u001b[0;32mnot\u001b[0m \u001b[0mtarinfo\u001b[0m\u001b[0;34m.\u001b[0m\u001b[0misdir\u001b[0m\u001b[0;34m(\u001b[0m\u001b[0;34m)\u001b[0m\u001b[0;34m)\u001b[0m\u001b[0;34m\u001b[0m\u001b[0m\n\u001b[0m\u001b[1;32m   1981\u001b[0m \u001b[0;34m\u001b[0m\u001b[0m\n\u001b[1;32m   1982\u001b[0m         \u001b[0;31m# Reverse sort directories.\u001b[0m\u001b[0;34m\u001b[0m\u001b[0;34m\u001b[0m\u001b[0m\n",
      "\u001b[0;32m/usr/lib/python3.4/tarfile.py\u001b[0m in \u001b[0;36mextract\u001b[0;34m(self, member, path, set_attrs)\u001b[0m\n\u001b[1;32m   2017\u001b[0m         \u001b[0;32mtry\u001b[0m\u001b[0;34m:\u001b[0m\u001b[0;34m\u001b[0m\u001b[0m\n\u001b[1;32m   2018\u001b[0m             self._extract_member(tarinfo, os.path.join(path, tarinfo.name),\n\u001b[0;32m-> 2019\u001b[0;31m                                  set_attrs=set_attrs)\n\u001b[0m\u001b[1;32m   2020\u001b[0m         \u001b[0;32mexcept\u001b[0m \u001b[0mOSError\u001b[0m \u001b[0;32mas\u001b[0m \u001b[0me\u001b[0m\u001b[0;34m:\u001b[0m\u001b[0;34m\u001b[0m\u001b[0m\n\u001b[1;32m   2021\u001b[0m             \u001b[0;32mif\u001b[0m \u001b[0mself\u001b[0m\u001b[0;34m.\u001b[0m\u001b[0merrorlevel\u001b[0m \u001b[0;34m>\u001b[0m \u001b[0;36m0\u001b[0m\u001b[0;34m:\u001b[0m\u001b[0;34m\u001b[0m\u001b[0m\n",
      "\u001b[0;32m/usr/lib/python3.4/tarfile.py\u001b[0m in \u001b[0;36m_extract_member\u001b[0;34m(self, tarinfo, targetpath, set_attrs)\u001b[0m\n\u001b[1;32m   2086\u001b[0m \u001b[0;34m\u001b[0m\u001b[0m\n\u001b[1;32m   2087\u001b[0m         \u001b[0;32mif\u001b[0m \u001b[0mtarinfo\u001b[0m\u001b[0;34m.\u001b[0m\u001b[0misreg\u001b[0m\u001b[0;34m(\u001b[0m\u001b[0;34m)\u001b[0m\u001b[0;34m:\u001b[0m\u001b[0;34m\u001b[0m\u001b[0m\n\u001b[0;32m-> 2088\u001b[0;31m             \u001b[0mself\u001b[0m\u001b[0;34m.\u001b[0m\u001b[0mmakefile\u001b[0m\u001b[0;34m(\u001b[0m\u001b[0mtarinfo\u001b[0m\u001b[0;34m,\u001b[0m \u001b[0mtargetpath\u001b[0m\u001b[0;34m)\u001b[0m\u001b[0;34m\u001b[0m\u001b[0m\n\u001b[0m\u001b[1;32m   2089\u001b[0m         \u001b[0;32melif\u001b[0m \u001b[0mtarinfo\u001b[0m\u001b[0;34m.\u001b[0m\u001b[0misdir\u001b[0m\u001b[0;34m(\u001b[0m\u001b[0;34m)\u001b[0m\u001b[0;34m:\u001b[0m\u001b[0;34m\u001b[0m\u001b[0m\n\u001b[1;32m   2090\u001b[0m             \u001b[0mself\u001b[0m\u001b[0;34m.\u001b[0m\u001b[0mmakedir\u001b[0m\u001b[0;34m(\u001b[0m\u001b[0mtarinfo\u001b[0m\u001b[0;34m,\u001b[0m \u001b[0mtargetpath\u001b[0m\u001b[0;34m)\u001b[0m\u001b[0;34m\u001b[0m\u001b[0m\n",
      "\u001b[0;32m/usr/lib/python3.4/tarfile.py\u001b[0m in \u001b[0;36mmakefile\u001b[0;34m(self, tarinfo, targetpath)\u001b[0m\n\u001b[1;32m   2132\u001b[0m                     \u001b[0mcopyfileobj\u001b[0m\u001b[0;34m(\u001b[0m\u001b[0msource\u001b[0m\u001b[0;34m,\u001b[0m \u001b[0mtarget\u001b[0m\u001b[0;34m,\u001b[0m \u001b[0msize\u001b[0m\u001b[0;34m)\u001b[0m\u001b[0;34m\u001b[0m\u001b[0m\n\u001b[1;32m   2133\u001b[0m             \u001b[0;32melse\u001b[0m\u001b[0;34m:\u001b[0m\u001b[0;34m\u001b[0m\u001b[0m\n\u001b[0;32m-> 2134\u001b[0;31m                 \u001b[0mcopyfileobj\u001b[0m\u001b[0;34m(\u001b[0m\u001b[0msource\u001b[0m\u001b[0;34m,\u001b[0m \u001b[0mtarget\u001b[0m\u001b[0;34m,\u001b[0m \u001b[0mtarinfo\u001b[0m\u001b[0;34m.\u001b[0m\u001b[0msize\u001b[0m\u001b[0;34m)\u001b[0m\u001b[0;34m\u001b[0m\u001b[0m\n\u001b[0m\u001b[1;32m   2135\u001b[0m             \u001b[0mtarget\u001b[0m\u001b[0;34m.\u001b[0m\u001b[0mseek\u001b[0m\u001b[0;34m(\u001b[0m\u001b[0mtarinfo\u001b[0m\u001b[0;34m.\u001b[0m\u001b[0msize\u001b[0m\u001b[0;34m)\u001b[0m\u001b[0;34m\u001b[0m\u001b[0m\n\u001b[1;32m   2136\u001b[0m             \u001b[0mtarget\u001b[0m\u001b[0;34m.\u001b[0m\u001b[0mtruncate\u001b[0m\u001b[0;34m(\u001b[0m\u001b[0;34m)\u001b[0m\u001b[0;34m\u001b[0m\u001b[0m\n",
      "\u001b[0;32m/usr/lib/python3.4/tarfile.py\u001b[0m in \u001b[0;36mcopyfileobj\u001b[0;34m(src, dst, length)\u001b[0m\n\u001b[1;32m    240\u001b[0m         \u001b[0;32mif\u001b[0m \u001b[0mlen\u001b[0m\u001b[0;34m(\u001b[0m\u001b[0mbuf\u001b[0m\u001b[0;34m)\u001b[0m \u001b[0;34m<\u001b[0m \u001b[0mBUFSIZE\u001b[0m\u001b[0;34m:\u001b[0m\u001b[0;34m\u001b[0m\u001b[0m\n\u001b[1;32m    241\u001b[0m             \u001b[0;32mraise\u001b[0m \u001b[0mOSError\u001b[0m\u001b[0;34m(\u001b[0m\u001b[0;34m\"end of file reached\"\u001b[0m\u001b[0;34m)\u001b[0m\u001b[0;34m\u001b[0m\u001b[0m\n\u001b[0;32m--> 242\u001b[0;31m         \u001b[0mdst\u001b[0m\u001b[0;34m.\u001b[0m\u001b[0mwrite\u001b[0m\u001b[0;34m(\u001b[0m\u001b[0mbuf\u001b[0m\u001b[0;34m)\u001b[0m\u001b[0;34m\u001b[0m\u001b[0m\n\u001b[0m\u001b[1;32m    243\u001b[0m \u001b[0;34m\u001b[0m\u001b[0m\n\u001b[1;32m    244\u001b[0m     \u001b[0;32mif\u001b[0m \u001b[0mremainder\u001b[0m \u001b[0;34m!=\u001b[0m \u001b[0;36m0\u001b[0m\u001b[0;34m:\u001b[0m\u001b[0;34m\u001b[0m\u001b[0m\n",
      "\u001b[0;31mOSError\u001b[0m: [Errno 28] No space left on device"
     ]
    }
   ],
   "source": [
    "train_data = gluon.data.DataLoader(\n",
    "    gluon.data.vision.CIFAR10(opt.dataroot, train=True, transform=transformer),\n",
    "    batch_size= opt.batchSize, shuffle=True, last_batch='discard')\n",
    "\n",
    "test_data = gluon.data.DataLoader(\n",
    "    gluon.data.vision.CIFAR10(opt.dataroot, train=False, transform=transformer),\n",
    "    batch_size=opt.batchSize, shuffle=False, last_batch='discard')"
   ]
  },
  {
   "cell_type": "markdown",
   "metadata": {
    "collapsed": true
   },
   "source": [
    "# Initialize the networks"
   ]
  },
  {
   "cell_type": "code",
   "execution_count": null,
   "metadata": {
    "collapsed": true
   },
   "outputs": [],
   "source": [
    "G_Net = gluon.nn.Sequential()\n",
    "with G_Net.name_scope():\n",
    "    #first layer\n",
    "    G_Net.add(gluon.nn.Conv2DTranspose(channels=opt.ngf * 8, kernel_size=4,use_bias=False))\n",
    "    G_Net.add(gluon.nn.BatchNorm(axis = 1, momentum = 0.1,center=True))\n",
    "    G_Net.add(gluon.nn.Activation(\"relu\"))\n",
    "    #second layer\n",
    "    G_Net.add(gluon.nn.Conv2DTranspose(channels=opt.ngf * 4, kernel_size=4,strides = 2,padding=1,use_bias=False))\n",
    "    G_Net.add(gluon.nn.BatchNorm(axis = 1, momentum = 0.1,center=True))\n",
    "    G_Net.add(gluon.nn.Activation(\"relu\"))\n",
    "    #tird layer\n",
    "    G_Net.add(gluon.nn.Conv2DTranspose(channels=opt.ngf * 2, kernel_size=4,strides = 2,padding=1,use_bias=False))\n",
    "    G_Net.add(gluon.nn.BatchNorm(axis = 1, momentum = 0.1,center=True))\n",
    "    G_Net.add(gluon.nn.Activation(\"relu\"))\n",
    "    #fourth layer\n",
    "    G_Net.add(gluon.nn.Conv2DTranspose(channels=opt.ngf, kernel_size=4,strides = 2,padding=1,use_bias=False))\n",
    "    G_Net.add(gluon.nn.BatchNorm(axis = 1, momentum = 0.1,center=True))\n",
    "    G_Net.add(gluon.nn.Activation(\"relu\"))\n",
    "    #fifth layer\n",
    "    G_Net.add(gluon.nn.Conv2DTranspose(channels=opt.nc, kernel_size=4,strides = 2,padding=1,use_bias=False))\n",
    "    G_Net.add(gluon.nn.Activation(\"tanh\"))\n",
    "\n",
    "    \n",
    "    \n",
    "D_Net = gluon.nn.Sequential()\n",
    "with D_Net.name_scope():\n",
    "    #first layer\n",
    "    D_Net.add(gluon.nn.Conv2D(channels=opt.ndf , kernel_size=4,strides = 2,padding=1, use_bias=False))\n",
    "    D_Net.add(gluon.nn.LeakyReLU(0.2))\n",
    "    #second layer\n",
    "    D_Net.add(gluon.nn.Conv2D(channels=opt.ndf * 2, kernel_size=4,strides = 2,padding=1,use_bias=False))\n",
    "    D_Net.add(gluon.nn.BatchNorm(axis = 1, momentum = 0.1,center=True))\n",
    "    D_Net.add(gluon.nn.LeakyReLU(0.2))\n",
    "    #tird layer\n",
    "    D_Net.add(gluon.nn.Conv2D(channels=opt.ndf * 4, kernel_size=4,strides = 2,padding=1,use_bias=False))\n",
    "    D_Net.add(gluon.nn.BatchNorm(axis = 1, momentum = 0.1,center=True))\n",
    "    D_Net.add(gluon.nn.LeakyReLU(0.2))\n",
    "    #fourth layer\n",
    "    D_Net.add(gluon.nn.Conv2D(channels=opt.ndf * 8, kernel_size=4,strides = 2,padding=1,use_bias=False))\n",
    "    D_Net.add(gluon.nn.BatchNorm(axis = 1, momentum = 0.1,center=True))\n",
    "    D_Net.add(gluon.nn.LeakyReLU(0.2))\n",
    "    #fifth layer\n",
    "    D_Net.add(gluon.nn.Conv2D(channels=opt.ndf * 8, kernel_size=4,strides = 2,padding=0,use_bias=False))\n",
    "    D_Net.add(gluon.nn.Dense(1,activation ='sigmoid'))\n",
    "    \n",
    "g_net = G_Net\n",
    "d_net = D_Net"
   ]
  },
  {
   "cell_type": "code",
   "execution_count": null,
   "metadata": {
    "collapsed": true
   },
   "outputs": [],
   "source": [
    "def image_show(data,padding = 2):\n",
    "    import math\n",
    "    datanp = (data.asnumpy().transpose((0, 2, 3, 1))+1.0)*128\n",
    "    x_dim = min(8, opt.batchSize)\n",
    "    y_dim = int(math.ceil(float(opt.batchSize) / x_dim))\n",
    "    height, width = int(opt.imageSize + padding), int(opt.imageSize + padding)\n",
    "    grid = np.zeros(( height * y_dim + 1 + padding // 2, width * x_dim + 1 + padding // 2,3))\n",
    "    k = 0\n",
    "    for y in range(y_dim):\n",
    "        for x in range(x_dim):\n",
    "            if k >= opt.batchSize:\n",
    "                break\n",
    "            start_y = y * height + 1 + padding // 2\n",
    "            end_y = start_y + height - padding \n",
    "            start_x = x * width + 1 + padding // 2\n",
    "            end_x = start_x + width - padding\n",
    "            np.copyto(grid[start_y:end_y,start_x:end_x],datanp[k])\n",
    "            k = k + 1\n",
    "    plt.figure(figsize=(10,10))\n",
    "    plt.axis('off')\n",
    "    plt.imshow(grid)\n",
    "    plt.show()\n",
    "def binary_cross_entropy(yhat, y):\n",
    "    return - (y * nd.log(yhat)+(1 - y ) * nd.log(1 - yhat))"
   ]
  },
  {
   "cell_type": "code",
   "execution_count": null,
   "metadata": {
    "collapsed": true
   },
   "outputs": [],
   "source": [
    "#Initialization\n",
    "\n",
    "g_net.collect_params().initialize(mx.init.Xavier(magnitude=0.02), ctx=opt.ctx)\n",
    "d_net.collect_params().initialize(mx.init.Xavier(magnitude=0.02), ctx=opt.ctx)\n",
    "G_trainer = gluon.Trainer(g_net.collect_params(), 'Adam', {'learning_rate': opt.lr * 100,'beta1':opt.beta1})\n",
    "D_trainer = gluon.Trainer(d_net.collect_params(), 'Adam', {'learning_rate': opt.lr,'beta1':opt.beta1})\n",
    "\n"
   ]
  },
  {
   "cell_type": "code",
   "execution_count": null,
   "metadata": {
    "collapsed": true
   },
   "outputs": [],
   "source": [
    "g_net.collect_params().zero_grad()\n",
    "d_net.collect_params().zero_grad()\n",
    "counter = 0\n",
    "for epoch in range(opt.niter):\n",
    "    for i, (d, _ ) in enumerate(train_data):\n",
    "        # update D\n",
    "        data = d.as_in_context(opt.ctx)\n",
    "        label = nd.ones(opt.batchSize, opt.ctx)\n",
    "        with autograd.record():            \n",
    "            output = d_net(data)\n",
    "            D_error = nd.mean(binary_cross_entropy(output,label))\n",
    "            D_x = nd.mean(output)\n",
    "\n",
    "        D_error.backward()\n",
    "        D_trainer.step(data.shape[0])\n",
    "        \n",
    "        noise = mx.ndarray.normal(loc = 0, scale = 1, shape = (opt.batchSize, opt.nz,1,1),ctx = opt.ctx)\n",
    "        fake_image = g_net(noise)\n",
    "        label = nd.zeros(opt.batchSize, opt.ctx)\n",
    "\n",
    "        with autograd.record():\n",
    "            output = d_net(fake_image)\n",
    "            D_error_fake_image = nd.mean(binary_cross_entropy(output,label))\n",
    "            D_G_z1 = nd.mean(output)\n",
    "\n",
    "        D_error_fake_image.backward()\n",
    "        D_trainer.step(fake_image.shape[0])\n",
    "            \n",
    "        #update G\n",
    "        label = nd.ones(opt.batchSize, opt.ctx)\n",
    "        with autograd.record():\n",
    "            fake_image = g_net(noise)\n",
    "            print(fake_image)\n",
    "            output = d_net(fake_image)\n",
    "            G_error = nd.mean(binary_cross_entropy(output,label))\n",
    "            D_G_z2 = nd.mean(output)\n",
    "        G_error.backward()\n",
    "        G_trainer.step(fake_image.shape[0])\n",
    "        \n",
    "        \n",
    "        print('[%d/%d/%d][%d/%d] Loss_D: %.4f Loss_G: %.4f D(x): %.4f D(G(z)): %.4f / %.4f'\n",
    "              % (epoch,counter, opt.niter, i, len(train_data),\n",
    "                 D_error.asnumpy(), G_error.asnumpy(), D_x.asnumpy(), D_G_z1.asnumpy(), D_G_z2.asnumpy()))\n",
    "        trunctate = 1\n",
    "        if i % (10*trunctate) == 0:\n",
    "            #image_show(data)\n",
    "            image_show(fake_image)\n",
    "        if i % (100*trunctate) == 0:   \n",
    "            filenameG = '%s/%s/G_Net_epoch_%d_%d' % (opt.outf, opt.dataset, epoch,counter)\n",
    "            filenameD = '%s/%s/D_Net_epoch_%d_%d' % (opt.outf, opt.dataset, epoch,counter)\n",
    "            g_net.save_params(filenameG)\n",
    "            d_net.save_params(filenameD)\n",
    "            counter = counter + 1\n",
    "    counter = 0\n"
   ]
  }
 ],
 "metadata": {
  "kernelspec": {
   "display_name": "Python 3",
   "language": "python",
   "name": "python3"
  },
  "language_info": {
   "codemirror_mode": {
    "name": "ipython",
    "version": 3
   },
   "file_extension": ".py",
   "mimetype": "text/x-python",
   "name": "python",
   "nbconvert_exporter": "python",
   "pygments_lexer": "ipython3",
   "version": "3.4.3"
  }
 },
 "nbformat": 4,
 "nbformat_minor": 2
}
